{
 "cells": [
  {
   "cell_type": "code",
   "execution_count": 11,
   "metadata": {},
   "outputs": [
    {
     "name": "stdout",
     "output_type": "stream",
     "text": [
      "Data Overview:\n"
     ]
    },
    {
     "data": {
      "text/html": [
       "<div>\n",
       "<style scoped>\n",
       "    .dataframe tbody tr th:only-of-type {\n",
       "        vertical-align: middle;\n",
       "    }\n",
       "\n",
       "    .dataframe tbody tr th {\n",
       "        vertical-align: top;\n",
       "    }\n",
       "\n",
       "    .dataframe thead th {\n",
       "        text-align: right;\n",
       "    }\n",
       "</style>\n",
       "<table border=\"1\" class=\"dataframe\">\n",
       "  <thead>\n",
       "    <tr style=\"text-align: right;\">\n",
       "      <th></th>\n",
       "      <th>id</th>\n",
       "      <th>first_name</th>\n",
       "      <th>last_name</th>\n",
       "      <th>email</th>\n",
       "      <th>gender</th>\n",
       "      <th>ip_address</th>\n",
       "      <th>flight_number</th>\n",
       "      <th>airline</th>\n",
       "      <th>origin</th>\n",
       "      <th>destination</th>\n",
       "      <th>departure_date</th>\n",
       "      <th>departure_time</th>\n",
       "      <th>arrival_date</th>\n",
       "      <th>arrival_time</th>\n",
       "      <th>gate</th>\n",
       "      <th>status</th>\n",
       "    </tr>\n",
       "  </thead>\n",
       "  <tbody>\n",
       "    <tr>\n",
       "      <th>0</th>\n",
       "      <td>1</td>\n",
       "      <td>Mathilda</td>\n",
       "      <td>Elkins</td>\n",
       "      <td>melkins0@ed.gov</td>\n",
       "      <td>Female</td>\n",
       "      <td>191.112.51.107</td>\n",
       "      <td>6324</td>\n",
       "      <td>United</td>\n",
       "      <td>Enhe Hada</td>\n",
       "      <td>Lovran</td>\n",
       "      <td>28/06/2022</td>\n",
       "      <td>5:03 AM</td>\n",
       "      <td>2/23/2022</td>\n",
       "      <td>4:55 AM</td>\n",
       "      <td>B2</td>\n",
       "      <td>Delayed</td>\n",
       "    </tr>\n",
       "    <tr>\n",
       "      <th>1</th>\n",
       "      <td>2</td>\n",
       "      <td>Marie-jeanne</td>\n",
       "      <td>Runciman</td>\n",
       "      <td>mrunciman1@qq.com</td>\n",
       "      <td>Genderqueer</td>\n",
       "      <td>176.105.76.212</td>\n",
       "      <td>6129</td>\n",
       "      <td>Delta</td>\n",
       "      <td>Sergio Osmeña Sr</td>\n",
       "      <td>Xinzhou</td>\n",
       "      <td>17/06/2022</td>\n",
       "      <td>6:08 PM</td>\n",
       "      <td>1/26/2022</td>\n",
       "      <td>3:52 PM</td>\n",
       "      <td>B2</td>\n",
       "      <td>Cancelled</td>\n",
       "    </tr>\n",
       "    <tr>\n",
       "      <th>2</th>\n",
       "      <td>3</td>\n",
       "      <td>Anthiathia</td>\n",
       "      <td>Rozea</td>\n",
       "      <td>arozea2@upenn.edu</td>\n",
       "      <td>Female</td>\n",
       "      <td>179.254.64.84</td>\n",
       "      <td>7600</td>\n",
       "      <td>United</td>\n",
       "      <td>Aki</td>\n",
       "      <td>Licupis</td>\n",
       "      <td>25/06/2022</td>\n",
       "      <td>5:18 AM</td>\n",
       "      <td>7/7/2022</td>\n",
       "      <td>6:18 PM</td>\n",
       "      <td>A1</td>\n",
       "      <td>On Time</td>\n",
       "    </tr>\n",
       "    <tr>\n",
       "      <th>3</th>\n",
       "      <td>4</td>\n",
       "      <td>Gardy</td>\n",
       "      <td>Whatman</td>\n",
       "      <td>gwhatman3@microsoft.com</td>\n",
       "      <td>Male</td>\n",
       "      <td>168.223.73.35</td>\n",
       "      <td>7919</td>\n",
       "      <td>Delta</td>\n",
       "      <td>Imtarfa</td>\n",
       "      <td>Capulaan</td>\n",
       "      <td>22/06/2022</td>\n",
       "      <td>3:55 AM</td>\n",
       "      <td>4/2/2022</td>\n",
       "      <td>6:17 PM</td>\n",
       "      <td>B2</td>\n",
       "      <td>On Time</td>\n",
       "    </tr>\n",
       "    <tr>\n",
       "      <th>4</th>\n",
       "      <td>5</td>\n",
       "      <td>Sly</td>\n",
       "      <td>Tuma</td>\n",
       "      <td>stuma4@tamu.edu</td>\n",
       "      <td>Male</td>\n",
       "      <td>187.112.118.233</td>\n",
       "      <td>9066</td>\n",
       "      <td>Delta</td>\n",
       "      <td>Gorelovo</td>\n",
       "      <td>Río Ceballos</td>\n",
       "      <td>29/06/2022</td>\n",
       "      <td>12:32 PM</td>\n",
       "      <td>12/4/2022</td>\n",
       "      <td>2:42 PM</td>\n",
       "      <td>C3</td>\n",
       "      <td>Delayed</td>\n",
       "    </tr>\n",
       "  </tbody>\n",
       "</table>\n",
       "</div>"
      ],
      "text/plain": [
       "   id    first_name last_name                    email       gender  \\\n",
       "0   1      Mathilda    Elkins          melkins0@ed.gov       Female   \n",
       "1   2  Marie-jeanne  Runciman        mrunciman1@qq.com  Genderqueer   \n",
       "2   3    Anthiathia     Rozea        arozea2@upenn.edu       Female   \n",
       "3   4         Gardy   Whatman  gwhatman3@microsoft.com         Male   \n",
       "4   5           Sly      Tuma          stuma4@tamu.edu         Male   \n",
       "\n",
       "        ip_address  flight_number airline            origin   destination  \\\n",
       "0   191.112.51.107           6324  United         Enhe Hada        Lovran   \n",
       "1   176.105.76.212           6129   Delta  Sergio Osmeña Sr       Xinzhou   \n",
       "2    179.254.64.84           7600  United               Aki       Licupis   \n",
       "3    168.223.73.35           7919   Delta           Imtarfa      Capulaan   \n",
       "4  187.112.118.233           9066   Delta          Gorelovo  Río Ceballos   \n",
       "\n",
       "  departure_date departure_time arrival_date arrival_time gate     status  \n",
       "0     28/06/2022        5:03 AM    2/23/2022      4:55 AM   B2    Delayed  \n",
       "1     17/06/2022        6:08 PM    1/26/2022      3:52 PM   B2  Cancelled  \n",
       "2     25/06/2022        5:18 AM     7/7/2022      6:18 PM   A1    On Time  \n",
       "3     22/06/2022        3:55 AM     4/2/2022      6:17 PM   B2    On Time  \n",
       "4     29/06/2022       12:32 PM    12/4/2022      2:42 PM   C3    Delayed  "
      ]
     },
     "metadata": {},
     "output_type": "display_data"
    }
   ],
   "source": [
    "import pandas as pd\n",
    "from IPython.display import display\n",
    "\n",
    "# Load the flight data from the CSV file\n",
    "flight_data = pd.read_csv('mock_flight_data.csv')\n",
    "\n",
    "# Display the first few rows of the dataset\n",
    "print(\"Data Overview:\")\n",
    "display(flight_data.head())"
   ]
  },
  {
   "cell_type": "code",
   "execution_count": 12,
   "metadata": {},
   "outputs": [
    {
     "name": "stdout",
     "output_type": "stream",
     "text": [
      "\n",
      "Data Shape:\n"
     ]
    },
    {
     "data": {
      "text/plain": [
       "(1000, 16)"
      ]
     },
     "metadata": {},
     "output_type": "display_data"
    }
   ],
   "source": [
    "# Check the number of rows and columns in the dataset\n",
    "print(\"\\nData Shape:\")\n",
    "display(flight_data.shape)"
   ]
  },
  {
   "cell_type": "code",
   "execution_count": 13,
   "metadata": {},
   "outputs": [
    {
     "name": "stdout",
     "output_type": "stream",
     "text": [
      "\n",
      "Data Information:\n",
      "<class 'pandas.core.frame.DataFrame'>\n",
      "RangeIndex: 1000 entries, 0 to 999\n",
      "Data columns (total 16 columns):\n",
      " #   Column          Non-Null Count  Dtype \n",
      "---  ------          --------------  ----- \n",
      " 0   id              1000 non-null   int64 \n",
      " 1   first_name      1000 non-null   object\n",
      " 2   last_name       1000 non-null   object\n",
      " 3   email           1000 non-null   object\n",
      " 4   gender          1000 non-null   object\n",
      " 5   ip_address      1000 non-null   object\n",
      " 6   flight_number   1000 non-null   int64 \n",
      " 7   airline         1000 non-null   object\n",
      " 8   origin          1000 non-null   object\n",
      " 9   destination     1000 non-null   object\n",
      " 10  departure_date  1000 non-null   object\n",
      " 11  departure_time  1000 non-null   object\n",
      " 12  arrival_date    1000 non-null   object\n",
      " 13  arrival_time    1000 non-null   object\n",
      " 14  gate            1000 non-null   object\n",
      " 15  status          1000 non-null   object\n",
      "dtypes: int64(2), object(14)\n",
      "memory usage: 125.1+ KB\n"
     ]
    },
    {
     "data": {
      "text/plain": [
       "None"
      ]
     },
     "metadata": {},
     "output_type": "display_data"
    }
   ],
   "source": [
    "# Check data types and non-null counts for each field\n",
    "print(\"\\nData Information:\")\n",
    "display(flight_data.info())\n",
    "\n"
   ]
  },
  {
   "cell_type": "code",
   "execution_count": 14,
   "metadata": {},
   "outputs": [
    {
     "name": "stdout",
     "output_type": "stream",
     "text": [
      "\n",
      "Summary Statistics:\n"
     ]
    },
    {
     "data": {
      "text/html": [
       "<div>\n",
       "<style scoped>\n",
       "    .dataframe tbody tr th:only-of-type {\n",
       "        vertical-align: middle;\n",
       "    }\n",
       "\n",
       "    .dataframe tbody tr th {\n",
       "        vertical-align: top;\n",
       "    }\n",
       "\n",
       "    .dataframe thead th {\n",
       "        text-align: right;\n",
       "    }\n",
       "</style>\n",
       "<table border=\"1\" class=\"dataframe\">\n",
       "  <thead>\n",
       "    <tr style=\"text-align: right;\">\n",
       "      <th></th>\n",
       "      <th>id</th>\n",
       "      <th>flight_number</th>\n",
       "    </tr>\n",
       "  </thead>\n",
       "  <tbody>\n",
       "    <tr>\n",
       "      <th>count</th>\n",
       "      <td>1000.000000</td>\n",
       "      <td>1000.000000</td>\n",
       "    </tr>\n",
       "    <tr>\n",
       "      <th>mean</th>\n",
       "      <td>500.500000</td>\n",
       "      <td>5101.073000</td>\n",
       "    </tr>\n",
       "    <tr>\n",
       "      <th>std</th>\n",
       "      <td>288.819436</td>\n",
       "      <td>2833.838564</td>\n",
       "    </tr>\n",
       "    <tr>\n",
       "      <th>min</th>\n",
       "      <td>1.000000</td>\n",
       "      <td>108.000000</td>\n",
       "    </tr>\n",
       "    <tr>\n",
       "      <th>25%</th>\n",
       "      <td>250.750000</td>\n",
       "      <td>2633.000000</td>\n",
       "    </tr>\n",
       "    <tr>\n",
       "      <th>50%</th>\n",
       "      <td>500.500000</td>\n",
       "      <td>5125.000000</td>\n",
       "    </tr>\n",
       "    <tr>\n",
       "      <th>75%</th>\n",
       "      <td>750.250000</td>\n",
       "      <td>7549.000000</td>\n",
       "    </tr>\n",
       "    <tr>\n",
       "      <th>max</th>\n",
       "      <td>1000.000000</td>\n",
       "      <td>9997.000000</td>\n",
       "    </tr>\n",
       "  </tbody>\n",
       "</table>\n",
       "</div>"
      ],
      "text/plain": [
       "                id  flight_number\n",
       "count  1000.000000    1000.000000\n",
       "mean    500.500000    5101.073000\n",
       "std     288.819436    2833.838564\n",
       "min       1.000000     108.000000\n",
       "25%     250.750000    2633.000000\n",
       "50%     500.500000    5125.000000\n",
       "75%     750.250000    7549.000000\n",
       "max    1000.000000    9997.000000"
      ]
     },
     "metadata": {},
     "output_type": "display_data"
    }
   ],
   "source": [
    "# Summary statistics for numeric columns\n",
    "print(\"\\nSummary Statistics:\")\n",
    "display(flight_data.describe())\n",
    "\n"
   ]
  },
  {
   "cell_type": "code",
   "execution_count": 15,
   "metadata": {},
   "outputs": [
    {
     "name": "stdout",
     "output_type": "stream",
     "text": [
      "\n",
      "Missing Values:\n"
     ]
    },
    {
     "data": {
      "text/plain": [
       "id                0\n",
       "first_name        0\n",
       "last_name         0\n",
       "email             0\n",
       "gender            0\n",
       "ip_address        0\n",
       "flight_number     0\n",
       "airline           0\n",
       "origin            0\n",
       "destination       0\n",
       "departure_date    0\n",
       "departure_time    0\n",
       "arrival_date      0\n",
       "arrival_time      0\n",
       "gate              0\n",
       "status            0\n",
       "dtype: int64"
      ]
     },
     "metadata": {},
     "output_type": "display_data"
    }
   ],
   "source": [
    "# Check for missing values in each column\n",
    "print(\"\\nMissing Values:\")\n",
    "display(flight_data.isnull().sum())\n"
   ]
  },
  {
   "cell_type": "code",
   "execution_count": 18,
   "metadata": {},
   "outputs": [
    {
     "name": "stderr",
     "output_type": "stream",
     "text": [
      "<ipython-input-18-717a33d82744>:2: FutureWarning: The series.append method is deprecated and will be removed from pandas in a future version. Use pandas.concat instead.\n",
      "  airports = flight_data['origin'].append(flight_data['destination']).reset_index(drop=True)\n"
     ]
    },
    {
     "data": {
      "text/plain": [
       "count          2000\n",
       "unique         1893\n",
       "top       Stockholm\n",
       "freq              5\n",
       "dtype: object"
      ]
     },
     "metadata": {},
     "output_type": "display_data"
    }
   ],
   "source": [
    "# Flight airport information\n",
    "airports = flight_data['origin'].append(flight_data['destination'].reset_index(drop=True))\n",
    "display(airports.describe())"
   ]
  }
 ],
 "metadata": {
  "kernelspec": {
   "display_name": "Python 3",
   "language": "python",
   "name": "python3"
  },
  "language_info": {
   "codemirror_mode": {
    "name": "ipython",
    "version": 3
   },
   "file_extension": ".py",
   "mimetype": "text/x-python",
   "name": "python",
   "nbconvert_exporter": "python",
   "pygments_lexer": "ipython3",
   "version": "3.9.2"
  },
  "orig_nbformat": 4
 },
 "nbformat": 4,
 "nbformat_minor": 2
}
